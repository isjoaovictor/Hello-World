{
 "cells": [
  {
   "cell_type": "code",
   "execution_count": 1,
   "metadata": {},
   "outputs": [
    {
     "name": "stdout",
     "output_type": "stream",
     "text": [
      "igarassu\n",
      "jab\n",
      "janga\n",
      "olinda\n"
     ]
    }
   ],
   "source": [
    "cdd = ['olinda', 'rec', 'jab']\n",
    "cdd.append('janga')\n",
    "cdd.insert(3, 'igarassu')\n",
    "cdd.sort()\n",
    "cdd.pop(4)\n",
    "\n",
    "for x in(cdd):\n",
    "   print(x)"
   ]
  }
 ],
 "metadata": {
  "kernelspec": {
   "display_name": "Python 3",
   "language": "python",
   "name": "python3"
  },
  "language_info": {
   "codemirror_mode": {
    "name": "ipython",
    "version": 3
   },
   "file_extension": ".py",
   "mimetype": "text/x-python",
   "name": "python",
   "nbconvert_exporter": "python",
   "pygments_lexer": "ipython3",
   "version": "3.12.3"
  }
 },
 "nbformat": 4,
 "nbformat_minor": 2
}
