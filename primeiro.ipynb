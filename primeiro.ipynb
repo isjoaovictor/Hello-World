{
 "cells": [
  {
   "cell_type": "markdown",
   "metadata": {},
   "source": [
    "cdd = ['olinda', 'rec', 'jab']\n",
    "cdd.append('janga')\n",
    "cdd.insert(3, 'igarassu')\n",
    "cdd.sort()\n",
    "cdd.pop(4)\n",
    "\n",
    "for x in(cdd):\n",
    "   print(x)"
   ]
  },
  {
   "cell_type": "code",
   "execution_count": 1,
   "metadata": {},
   "outputs": [
    {
     "name": "stdout",
     "output_type": "stream",
     "text": [
      "2\n",
      "1\n"
     ]
    }
   ],
   "source": [
    "cont = 2\n",
    "\n",
    "while cont > 0:\n",
    "    print(cont)\n",
    "    cont -= 1"
   ]
  },
  {
   "cell_type": "markdown",
   "metadata": {},
   "source": [
    "#### Testes lógicos com if"
   ]
  },
  {
   "cell_type": "code",
   "execution_count": 2,
   "metadata": {},
   "outputs": [
    {
     "name": "stdout",
     "output_type": "stream",
     "text": [
      "errado\n"
     ]
    }
   ],
   "source": [
    "ling = input(\"insira aqui: \")\n",
    "\n",
    "if ling != \"python\":\n",
    "    print(\"errado\")"
   ]
  },
  {
   "cell_type": "markdown",
   "metadata": {},
   "source": [
    "#### Looping Infinitos"
   ]
  },
  {
   "cell_type": "code",
   "execution_count": 3,
   "metadata": {},
   "outputs": [
    {
     "name": "stdout",
     "output_type": "stream",
     "text": [
      "ll\n",
      "python\n",
      "paarar\n",
      "parar\n"
     ]
    }
   ],
   "source": [
    "while True:\n",
    "    mensg = input(\"\")\n",
    "    print(mensg)\n",
    "\n",
    "    if mensg == \"parar\":\n",
    "        break"
   ]
  }
 ],
 "metadata": {
  "kernelspec": {
   "display_name": "Python 3",
   "language": "python",
   "name": "python3"
  },
  "language_info": {
   "codemirror_mode": {
    "name": "ipython",
    "version": 3
   },
   "file_extension": ".py",
   "mimetype": "text/x-python",
   "name": "python",
   "nbconvert_exporter": "python",
   "pygments_lexer": "ipython3",
   "version": "3.12.3"
  }
 },
 "nbformat": 4,
 "nbformat_minor": 2
}
